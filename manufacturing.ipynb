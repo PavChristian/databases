{
 "cells": [
  {
   "cell_type": "markdown",
   "metadata": {},
   "source": [
    "### Checking the accuracy of a manufacturing process"
   ]
  },
  {
   "cell_type": "markdown",
   "metadata": {},
   "source": [
    "This code flags products whose dimensions fall outside of the acceptable control limits (UCL and LCL) for each operator. "
   ]
  },
  {
   "cell_type": "code",
   "execution_count": null,
   "metadata": {
    "vscode": {
     "languageId": "sql"
    }
   },
   "outputs": [],
   "source": [
    "SELECT *\n",
    "FROM manufacturing_parts;"
   ]
  },
  {
   "cell_type": "code",
   "execution_count": null,
   "metadata": {
    "vscode": {
     "languageId": "sql"
    }
   },
   "outputs": [],
   "source": [
    "-- Checking the total numbers of parts and their average dimensions for each operator\n",
    "SELECT\n",
    "\toperator,\n",
    "\tCOUNT(DISTINCT item_no) AS number_of_items,\n",
    "\tAVG(length) AS avg_length, \n",
    "\tAVG(width) AS avg_width,\n",
    "\tAVG(height) AS avg_height\n",
    "FROM manufacturing_parts\n",
    "GROUP BY operator\n",
    "ORDER BY operator;"
   ]
  },
  {
   "cell_type": "code",
   "execution_count": null,
   "metadata": {
    "vscode": {
     "languageId": "sql"
    }
   },
   "outputs": [],
   "source": [
    "-- Using a window function to find average height and standard deviation of the variable for the 5 preceding rows\n",
    "WITH height_stats AS (\n",
    "    SELECT \n",
    "        operator,\n",
    "        item_no,\n",
    "        height,\n",
    "        AVG(height) OVER (\n",
    "            PARTITION BY operator \n",
    "            ORDER BY item_no \n",
    "            ROWS BETWEEN 4 PRECEDING AND CURRENT ROW\n",
    "        ) AS avg_height,\n",
    "        STDDEV(height) OVER (\n",
    "            PARTITION BY operator \n",
    "            ORDER BY item_no \n",
    "            ROWS BETWEEN 4 PRECEDING AND CURRENT ROW\n",
    "        ) AS stddev_height,\n",
    "\t   ROW_NUMBER() OVER (PARTITION BY operator ORDER BY item_no) AS row_number\n",
    "    FROM \n",
    "        manufacturing_parts\n",
    "\n",
    "),\n",
    "-- Flag items that do are not within the acceptable limits\n",
    "limit_table AS (\n",
    "\tSELECT \n",
    "\t\t*, \n",
    "\t\tavg_height + 3 * (stddev_height/SQRT(5)) AS ucl,\n",
    "\t\tavg_height - 3 * (stddev_height/SQRT(5)) AS lcl,\n",
    "\t\tCASE \n",
    "\t\t\tWHEN height <= avg_height + 3 * (stddev_height/SQRT(5)) AND height >= avg_height - 3 * (stddev_height/SQRT(5)) THEN FALSE\n",
    "\t\t\tELSE TRUE\n",
    "\t\tEND AS alert\n",
    "\tFROM \n",
    "\t\theight_stats\n",
    "\tWHERE \n",
    "\t\trow_number >=5\n",
    ")\n",
    "SELECT operator, row_number, height, avg_height, stddev_height, ucl, lcl, alert\n",
    "FROM limit_table;"
   ]
  }
 ],
 "metadata": {
  "language_info": {
   "name": "python"
  }
 },
 "nbformat": 4,
 "nbformat_minor": 2
}
